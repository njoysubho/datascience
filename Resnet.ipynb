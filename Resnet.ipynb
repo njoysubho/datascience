{
  "nbformat": 4,
  "nbformat_minor": 0,
  "metadata": {
    "colab": {
      "name": "Resnet.ipynb",
      "provenance": [],
      "authorship_tag": "ABX9TyOcRulHB2sHbL64VNMHpc+k"
    },
    "kernelspec": {
      "name": "python3",
      "display_name": "Python 3"
    },
    "accelerator": "GPU"
  },
  "cells": [
    {
      "cell_type": "code",
      "metadata": {
        "colab": {
          "base_uri": "https://localhost:8080/"
        },
        "id": "xFbTF5rNATM4",
        "outputId": "8350655d-f714-43ca-bc01-d3a8e8621064"
      },
      "source": [
        "%tensorflow_version 2.x\n",
        "import tensorflow as tf\n",
        "device_name = tf.test.gpu_device_name()\n",
        "if device_name != '/device:GPU:0':\n",
        "  raise SystemError('GPU device not found')\n",
        "print('Found GPU at: {}'.format(device_name))"
      ],
      "execution_count": 1,
      "outputs": [
        {
          "output_type": "stream",
          "text": [
            "Found GPU at: /device:GPU:0\n"
          ],
          "name": "stdout"
        }
      ]
    },
    {
      "cell_type": "code",
      "metadata": {
        "id": "RJf6TvIv_mJU"
      },
      "source": [
        "import torch.nn as nn"
      ],
      "execution_count": 3,
      "outputs": []
    },
    {
      "cell_type": "code",
      "metadata": {
        "id": "y-gwqyToAg87"
      },
      "source": [
        "class ResidualBlock(nn.Module):\n",
        "  def __init__(self,in_channel,out_channel):\n",
        "    super().__init__()\n",
        "    self.in_channel = in_channel\n",
        "    self.out_channel = out_channel\n",
        "    self.blocks = nn.Identity()\n",
        "    self.activation = nn.ReLU()\n",
        "    self.short_cut = nn.Identity()\n",
        "  def forward(self,x):\n",
        "    residual = x\n",
        "    if self.in_channel != self.out_channel : self.short_cut(x)\n",
        "    x = self.blocks(x)\n",
        "    x+=residual\n",
        "    x= self.activation(x)\n",
        "    return x\n",
        "\n"
      ],
      "execution_count": 33,
      "outputs": []
    },
    {
      "cell_type": "code",
      "metadata": {
        "colab": {
          "base_uri": "https://localhost:8080/"
        },
        "id": "ILKmmc61KWcv",
        "outputId": "06c2fe2a-9947-43fa-ee70-c5256a1c7ef3"
      },
      "source": [
        "print(ResidualBlock(3,64))"
      ],
      "execution_count": 35,
      "outputs": [
        {
          "output_type": "stream",
          "text": [
            "ResidualBlock(\n",
            "  (blocks): Identity()\n",
            "  (activation): ReLU()\n",
            "  (short_cut): Identity()\n",
            ")\n"
          ],
          "name": "stdout"
        }
      ]
    },
    {
      "cell_type": "code",
      "metadata": {
        "id": "hUICww21JX2j"
      },
      "source": [
        "class ResnetResidualBlock(ResidualBlock):\n",
        "  def __init__(self,in_channel,out_channel,downsampling = 1):\n",
        "    super().__init__(in_channel,out_channel)\n",
        "    self.downsampling = downsampling\n",
        "    self.short_cut = nn.Sequential(\n",
        "        nn.Conv2d(self.in_channel,self.out_channel,1,self.downsampling),\n",
        "        nn.BatchNorm2d(self.out_channel)\n",
        "    )\n"
      ],
      "execution_count": 39,
      "outputs": []
    },
    {
      "cell_type": "code",
      "metadata": {
        "colab": {
          "base_uri": "https://localhost:8080/"
        },
        "id": "JwDYTsLJMdQ2",
        "outputId": "4f74138b-537c-44d5-f6fb-17ee683dc7c2"
      },
      "source": [
        "print(ResnetResidualBlock(3,64))"
      ],
      "execution_count": 40,
      "outputs": [
        {
          "output_type": "stream",
          "text": [
            "ResnetResidualBlock(\n",
            "  (blocks): Identity()\n",
            "  (activation): ReLU()\n",
            "  (short_cut): Sequential(\n",
            "    (0): Conv2d(3, 64, kernel_size=(1, 1), stride=(1, 1))\n",
            "    (1): BatchNorm2d(64, eps=1e-05, momentum=0.1, affine=True, track_running_stats=True)\n",
            "  )\n",
            ")\n"
          ],
          "name": "stdout"
        }
      ]
    },
    {
      "cell_type": "code",
      "metadata": {
        "id": "Ee2IfDrwNMPk"
      },
      "source": [
        "class ResnetBasicBlock(ResnetResidualBlock):\n",
        "  def __init__(self,in_channel,out_channel,*args,**kwargs):\n",
        "    super().__init__(in_channel,out_channel)\n",
        "    self.blocks = nn.Sequential(\n",
        "        nn.Conv2d(in_channel,out_channel,kernel_size=3,stride=self.downsampling),\n",
        "        nn.BatchNorm2d(out_channel),\n",
        "        nn.ReLU(),\n",
        "        nn.Conv2d(in_channel,out_channel,kernel_size=3),\n",
        "        nn.BatchNorm2d(out_channel)\n",
        "    )"
      ],
      "execution_count": 29,
      "outputs": []
    },
    {
      "cell_type": "code",
      "metadata": {
        "colab": {
          "base_uri": "https://localhost:8080/"
        },
        "id": "aLX6NcqFPecG",
        "outputId": "4a9aace5-dfe6-4dad-b2cb-a721516fb6ab"
      },
      "source": [
        "print(ResnetBasicBlock(3,64,do))"
      ],
      "execution_count": 30,
      "outputs": [
        {
          "output_type": "stream",
          "text": [
            "ResnetBasicBlock(\n",
            "  (blocks): Sequential(\n",
            "    (0): Conv2d(3, 64, kernel_size=(3, 3), stride=(2, 2))\n",
            "    (1): BatchNorm2d(64, eps=1e-05, momentum=0.1, affine=True, track_running_stats=True)\n",
            "    (2): ReLU()\n",
            "    (3): Conv2d(3, 64, kernel_size=(3, 3), stride=(2, 2))\n",
            "    (4): BatchNorm2d(64, eps=1e-05, momentum=0.1, affine=True, track_running_stats=True)\n",
            "  )\n",
            "  (activation): ReLU()\n",
            "  (short_cut): Sequential(\n",
            "    (0): Conv2d(3, 64, kernel_size=(3, 3), stride=(2, 2))\n",
            "    (1): BatchNorm2d(64, eps=1e-05, momentum=0.1, affine=True, track_running_stats=True)\n",
            "  )\n",
            ")\n"
          ],
          "name": "stdout"
        }
      ]
    }
  ]
}
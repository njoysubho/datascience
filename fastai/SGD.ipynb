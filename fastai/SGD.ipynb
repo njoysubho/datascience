{
 "cells": [
  {
   "cell_type": "code",
   "execution_count": 1,
   "metadata": {},
   "outputs": [],
   "source": [
    "%matplotlib inline\n",
    "from fastai.basics import *"
   ]
  },
  {
   "cell_type": "code",
   "execution_count": 2,
   "metadata": {},
   "outputs": [],
   "source": [
    "n=100"
   ]
  },
  {
   "cell_type": "code",
   "execution_count": 6,
   "metadata": {},
   "outputs": [
    {
     "name": "stdout",
     "output_type": "stream",
     "text": [
      "tensor([[0.9622, 1.0000],\n",
      "        [0.9884, 1.0000],\n",
      "        [0.3074, 1.0000],\n",
      "        [0.7957, 1.0000],\n",
      "        [0.8898, 1.0000]])\n"
     ]
    }
   ],
   "source": [
    "x=torch.ones(n,2)\n",
    "x[:,0].uniform_(-1.,1)\n",
    "print(x[:5])"
   ]
  },
  {
   "cell_type": "code",
   "execution_count": 8,
   "metadata": {},
   "outputs": [
    {
     "data": {
      "text/plain": [
       "tensor([3., 2.])"
      ]
     },
     "execution_count": 8,
     "metadata": {},
     "output_type": "execute_result"
    }
   ],
   "source": [
    "a=tensor(3.,2);a"
   ]
  },
  {
   "cell_type": "code",
   "execution_count": 9,
   "metadata": {},
   "outputs": [
    {
     "data": {
      "text/plain": [
       "tensor([ 3.3456,  3.2074,  2.1680,  2.9914,  4.4899,  2.3922,  0.6982,  0.5163,\n",
       "         3.2314,  1.3212,  4.0556,  4.9775, -1.0274,  3.3169,  4.4116,  4.5064,\n",
       "         0.6224,  0.8903, -1.0672,  4.0174, -0.5870, -1.5280, -0.1220, -0.8498,\n",
       "         5.7423, -1.6270,  4.1429,  1.8476,  4.1146,  3.5818,  2.4331,  0.7202,\n",
       "        -0.7856,  4.5107,  3.1919,  3.1754, -0.4855, -0.7100,  2.2465,  3.6396,\n",
       "         3.5506,  1.3649,  0.9715,  3.7442, -1.4434,  1.2591,  3.4049,  4.7470,\n",
       "         3.3864,  0.7551,  4.8401,  5.4139,  3.5855,  3.8090,  4.6146, -1.9134,\n",
       "        -0.7927,  3.4217,  4.0909, -0.2904, -1.7545, -0.8284,  2.3257, -0.1161,\n",
       "         6.7757,  3.3854,  1.4350,  2.0142, -1.6854,  2.5084, -0.3004,  3.5731,\n",
       "         2.1493,  3.7393,  1.4198,  1.6976,  5.4570,  3.0426,  0.8614,  1.1200,\n",
       "         2.1369,  0.2820, -0.8758,  1.2353, -0.8241,  2.0630, -1.6518,  4.2602,\n",
       "         4.8344, -0.5909,  2.8037,  2.3396,  3.7683,  0.8715,  0.7051,  0.3525,\n",
       "         2.3975, -2.1324,  3.1665,  0.9531])"
      ]
     },
     "execution_count": 9,
     "metadata": {},
     "output_type": "execute_result"
    }
   ],
   "source": [
    "y=x@a+torch.randn(n);y"
   ]
  },
  {
   "cell_type": "code",
   "execution_count": 11,
   "metadata": {},
   "outputs": [
    {
     "data": {
      "image/png": "[encoded data removed]",
      "text/plain": [
       "<Figure size 432x288 with 1 Axes>"
      ]
     },
     "metadata": {
      "needs_background": "light"
     },
     "output_type": "display_data"
    }
   ],
   "source": [
    "plt.scatter(x[:,0], y);"
   ]
  },
  {
   "cell_type": "code",
   "execution_count": 12,
   "metadata": {},
   "outputs": [],
   "source": [
    "def mse(y_hat, y): return ((y_hat-y)**2).mean()"
   ]
  },
  {
   "cell_type": "code",
   "execution_count": 41,
   "metadata": {},
   "outputs": [],
   "source": [
    "a=tensor(-1.,1)\n",
    "a = nn.Parameter(a); a\n",
    "lr=1e-1"
   ]
  },
  {
   "cell_type": "code",
   "execution_count": 42,
   "metadata": {},
   "outputs": [],
   "source": [
    "def update():\n",
    "    yhat=x@a\n",
    "    loss=mse(yhat,y)\n",
    "    if t % 10 == 0: print(loss)\n",
    "    loss.backward()\n",
    "    with torch.no_grad():\n",
    "        a.sub_(lr*a.grad)\n",
    "        a.grad.zero_()"
   ]
  },
  {
   "cell_type": "code",
   "execution_count": 43,
   "metadata": {},
   "outputs": [
    {
     "name": "stdout",
     "output_type": "stream",
     "text": [
      "tensor(7.9841, grad_fn=<MeanBackward0>)\n",
      "tensor(2.3970, grad_fn=<MeanBackward0>)\n",
      "tensor(1.4603, grad_fn=<MeanBackward0>)\n",
      "tensor(1.2801, grad_fn=<MeanBackward0>)\n",
      "tensor(1.2451, grad_fn=<MeanBackward0>)\n",
      "tensor(1.2384, grad_fn=<MeanBackward0>)\n",
      "tensor(1.2370, grad_fn=<MeanBackward0>)\n",
      "tensor(1.2368, grad_fn=<MeanBackward0>)\n",
      "tensor(1.2367, grad_fn=<MeanBackward0>)\n",
      "tensor(1.2367, grad_fn=<MeanBackward0>)\n"
     ]
    }
   ],
   "source": [
    "for t in range(100):\n",
    "    update()"
   ]
  },
  {
   "cell_type": "code",
   "execution_count": 44,
   "metadata": {},
   "outputs": [
    {
     "data": {
      "text/plain": [
       "Parameter containing:\n",
       "tensor([2.8693, 1.9514], requires_grad=True)"
      ]
     },
     "execution_count": 44,
     "metadata": {},
     "output_type": "execute_result"
    }
   ],
   "source": [
    "a"
   ]
  },
  {
   "cell_type": "code",
   "execution_count": 45,
   "metadata": {},
   "outputs": [
    {
     "data": {
      "text/plain": [
       "<matplotlib.collections.PathCollection at 0x7ff7b9466e90>"
      ]
     },
     "execution_count": 45,
     "metadata": {},
     "output_type": "execute_result"
    },
    {
     "data": {
      "image/png": "[encoded data removed]",
      "text/plain": [
       "<Figure size 432x288 with 1 Axes>"
      ]
     },
     "metadata": {
      "needs_background": "light"
     },
     "output_type": "display_data"
    }
   ],
   "source": [
    "plt.scatter(x[:,0],y)\n",
    "plt.scatter(x[:,0],x@a.detach(),c='orange')"
   ]
  },
  {
   "cell_type": "code",
   "execution_count": null,
   "metadata": {},
   "outputs": [],
   "source": []
  },
  {
   "cell_type": "code",
   "execution_count": null,
   "metadata": {},
   "outputs": [],
   "source": []
  },
  {
   "cell_type": "code",
   "execution_count": null,
   "metadata": {},
   "outputs": [],
   "source": []
  },
  {
   "cell_type": "code",
   "execution_count": null,
   "metadata": {},
   "outputs": [],
   "source": []
  },
  {
   "cell_type": "code",
   "execution_count": null,
   "metadata": {},
   "outputs": [],
   "source": []
  },
  {
   "cell_type": "code",
   "execution_count": null,
   "metadata": {},
   "outputs": [],
   "source": []
  },
  {
   "cell_type": "code",
   "execution_count": null,
   "metadata": {},
   "outputs": [],
   "source": []
  },
  {
   "cell_type": "code",
   "execution_count": null,
   "metadata": {},
   "outputs": [],
   "source": []
  },
  {
   "cell_type": "code",
   "execution_count": null,
   "metadata": {},
   "outputs": [],
   "source": []
  },
  {
   "cell_type": "code",
   "execution_count": null,
   "metadata": {},
   "outputs": [],
   "source": []
  },
  {
   "cell_type": "code",
   "execution_count": null,
   "metadata": {},
   "outputs": [],
   "source": []
  }
 ],
 "metadata": {
  "environment": {
   "name": "pytorch-gpu.1-4.m49",
   "type": "gcloud",
   "uri": "gcr.io/deeplearning-platform-release/pytorch-gpu.1-4:m49"
  },
  "kernelspec": {
   "display_name": "Python 3",
   "language": "python",
   "name": "python3"
  },
  "language_info": {
   "codemirror_mode": {
    "name": "ipython",
    "version": 3
   },
   "file_extension": ".py",
   "mimetype": "text/x-python",
   "name": "python",
   "nbconvert_exporter": "python",
   "pygments_lexer": "ipython3",
   "version": "3.7.6"
  }
 },
 "nbformat": 4,
 "nbformat_minor": 4
}

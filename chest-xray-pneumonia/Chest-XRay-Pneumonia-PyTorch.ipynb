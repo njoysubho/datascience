{
  "nbformat": 4,
  "nbformat_minor": 0,
  "metadata": {
    "environment": {
      "name": "pytorch-gpu.1-4.m49",
      "type": "gcloud",
      "uri": "gcr.io/deeplearning-platform-release/pytorch-gpu.1-4:m49"
    },
    "kernelspec": {
      "display_name": "Python 3",
      "language": "python",
      "name": "python3"
    },
    "language_info": {
      "codemirror_mode": {
        "name": "ipython",
        "version": 3
      },
      "file_extension": ".py",
      "mimetype": "text/x-python",
      "name": "python",
      "nbconvert_exporter": "python",
      "pygments_lexer": "ipython3",
      "version": "3.7.6"
    },
    "colab": {
      "name": "Chest-XRay-Pneumonia-PyTorch.ipynb",
      "provenance": []
    }
  },
  "cells": [
    {
      "cell_type": "code",
      "metadata": {
        "id": "fSgWR5fM8sx8",
        "colab_type": "code",
        "colab": {}
      },
      "source": [
        "import os\n",
        "import torch\n",
        "import numpy as np\n",
        "import glob\n",
        "import albumentations\n",
        "from PIL import Image\n",
        "from torch.utils import data\n",
        "import torch.nn as nn\n",
        "import torch.nn.functional as F\n",
        "import torchvision.models as models\n",
        "import torch.optim as optim"
      ],
      "execution_count": 23,
      "outputs": []
    },
    {
      "cell_type": "code",
      "metadata": {
        "id": "XRrfCdsr8syD",
        "colab_type": "code",
        "colab": {
          "resources": {
            "http://localhost:8080/nbextensions/google.colab/files.js": {
              "data": "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",
              "ok": true,
              "headers": [
                [
                  "content-type",
                  "application/javascript"
                ]
              ],
              "status": 200,
              "status_text": "OK"
            }
          },
          "base_uri": "https://localhost:8080/",
          "height": 87
        },
        "outputId": "844a7006-8694-4bd6-bc6e-88e0e1f5238a"
      },
      "source": [
        "DATA_PATH = '/home/jupyter/datascience/chest-xray-pneumonia/data/chest_xray'\n",
        "! pip install -q kaggle\n",
        "from google.colab import files\n",
        "files.upload()"
      ],
      "execution_count": 4,
      "outputs": [
        {
          "output_type": "display_data",
          "data": {
            "text/html": [
              "\n",
              "     <input type=\"file\" id=\"files-6e13f831-98f2-449c-9f03-4e2932a33e8f\" name=\"files[]\" multiple disabled\n",
              "        style=\"border:none\" />\n",
              "     <output id=\"result-6e13f831-98f2-449c-9f03-4e2932a33e8f\">\n",
              "      Upload widget is only available when the cell has been executed in the\n",
              "      current browser session. Please rerun this cell to enable.\n",
              "      </output>\n",
              "      <script src=\"/nbextensions/google.colab/files.js\"></script> "
            ],
            "text/plain": [
              "<IPython.core.display.HTML object>"
            ]
          },
          "metadata": {
            "tags": []
          }
        },
        {
          "output_type": "stream",
          "text": [
            "Saving kaggle.json to kaggle.json\n"
          ],
          "name": "stdout"
        },
        {
          "output_type": "execute_result",
          "data": {
            "text/plain": [
              "{'kaggle.json': b'{\"username\":\"sabz2301\",\"key\":\"68b5b084ae177eb3df511e61147b64fc\"}'}"
            ]
          },
          "metadata": {
            "tags": []
          },
          "execution_count": 4
        }
      ]
    },
    {
      "cell_type": "code",
      "metadata": {
        "id": "RMRL8lvN-VSv",
        "colab_type": "code",
        "colab": {}
      },
      "source": [
        " ! mkdir ~/.kaggle "
      ],
      "execution_count": 5,
      "outputs": []
    },
    {
      "cell_type": "code",
      "metadata": {
        "id": "ZaJFpv1W-cSN",
        "colab_type": "code",
        "colab": {
          "base_uri": "https://localhost:8080/",
          "height": 34
        },
        "outputId": "20afca77-f368-434b-85bd-554b209b0e7b"
      },
      "source": [
        " ! cp kaggle.json ~/.kaggle/\n",
        " ! ls ~/.kaggle/"
      ],
      "execution_count": 8,
      "outputs": [
        {
          "output_type": "stream",
          "text": [
            "kaggle.json\n"
          ],
          "name": "stdout"
        }
      ]
    },
    {
      "cell_type": "code",
      "metadata": {
        "id": "u-Ubfxam-l_C",
        "colab_type": "code",
        "colab": {
          "base_uri": "https://localhost:8080/",
          "height": 86
        },
        "outputId": "8a08d7ea-469f-4e61-8a3b-7f02607ee807"
      },
      "source": [
        "! kaggle datasets download -d paultimothymooney/chest-xray-pneumonia"
      ],
      "execution_count": 9,
      "outputs": [
        {
          "output_type": "stream",
          "text": [
            "Warning: Your Kaggle API key is readable by other users on this system! To fix this, you can run 'chmod 600 /root/.kaggle/kaggle.json'\n",
            "Downloading chest-xray-pneumonia.zip to /content\n",
            "100% 2.29G/2.29G [00:42<00:00, 68.8MB/s]\n",
            "100% 2.29G/2.29G [00:43<00:00, 57.3MB/s]\n"
          ],
          "name": "stdout"
        }
      ]
    },
    {
      "cell_type": "code",
      "metadata": {
        "id": "pzBPI6X4_WOf",
        "colab_type": "code",
        "colab": {}
      },
      "source": [
        "! chmod 600 ~/.kaggle/kaggle.json"
      ],
      "execution_count": 10,
      "outputs": []
    },
    {
      "cell_type": "code",
      "metadata": {
        "id": "Xokdeebj_fCX",
        "colab_type": "code",
        "colab": {}
      },
      "source": [
        "\n",
        "! unzip chest-xray-pneumonia.zip "
      ],
      "execution_count": null,
      "outputs": []
    },
    {
      "cell_type": "code",
      "metadata": {
        "id": "OFN7xxAf8syK",
        "colab_type": "code",
        "colab": {}
      },
      "source": [
        "class ClassificationDataset:\n",
        "    def __init__(self,image_paths,targets,resize=None):\n",
        "        self.image_paths=image_paths\n",
        "        self.targets = targets\n",
        "        self.resize = resize\n",
        "        self.aug= albumentations.Compose([\n",
        "            albumentations.Rotate(),\n",
        "            albumentations.Normalize(always_apply=True,)\n",
        "        ])\n",
        "    def __len__(self):\n",
        "        return len(self.image_paths)\n",
        "\n",
        "    def __getitem__(self,item):\n",
        "        path = self.image_paths[item]\n",
        "        image = Image.open(path).convert(\"RGB\")\n",
        "        target = self.targets[item]\n",
        "        if self.resize is not None:\n",
        "            image =image.resize((self.resize[1],self.resize[0]),resample=Image.BILINEAR)\n",
        "        \n",
        "        image = np.array(image)\n",
        "        augmented = self.aug(image=image)\n",
        "        image = augmented[\"image\"]\n",
        "        image = np.transpose(image,(2,0,1)).astype(np.float32)\n",
        "        image = torch.tensor(data=image,dtype=torch.float)\n",
        "        return image,target"
      ],
      "execution_count": 28,
      "outputs": []
    },
    {
      "cell_type": "code",
      "metadata": {
        "id": "2APnMP1iAoFQ",
        "colab_type": "code",
        "colab": {
          "base_uri": "https://localhost:8080/",
          "height": 34
        },
        "outputId": "7eaebbf8-4dd1-4230-f1bd-f81e3f3ed99a"
      },
      "source": [
        "! ls /content/chest_xray/train"
      ],
      "execution_count": null,
      "outputs": [
        {
          "output_type": "stream",
          "text": [
            "NORMAL\tPNEUMONIA\n"
          ],
          "name": "stdout"
        }
      ]
    },
    {
      "cell_type": "code",
      "metadata": {
        "id": "x82MbtRc8syO",
        "colab_type": "code",
        "colab": {}
      },
      "source": [
        "DATA_PATH\n",
        "train_images = glob.glob(\"/content/chest_xray/train/**/**.jpeg\")\n",
        "train_targets = [(0 if (x.split(\"/\")[-2]=='PNEUMONIA') else 1 ) for x in train_images]\n",
        "\n",
        "valid_images = glob.glob(\"/content/chest_xray/val/**/**.jpeg\")\n",
        "valid_targets = [(0 if (x.split(\"/\")[-2]=='PNEUMONIA') else 1 ) for x in valid_images]\n",
        "\n",
        "train_ds = ClassificationDataset(train_images,train_targets,resize=(24,24))\n",
        "valid_ds = ClassificationDataset(valid_images,valid_targets,resize=(24,24))"
      ],
      "execution_count": 29,
      "outputs": []
    },
    {
      "cell_type": "code",
      "metadata": {
        "id": "aHA68xyo8syU",
        "colab_type": "code",
        "colab": {
          "base_uri": "https://localhost:8080/",
          "height": 1000
        },
        "outputId": "e00716a2-f91a-41a9-861c-760040c3f930"
      },
      "source": [
        "train_dl=data.DataLoader(dataset=train_ds,batch_size=64,shuffle=True)\n",
        "next(iter(train_dl))"
      ],
      "execution_count": 31,
      "outputs": [
        {
          "output_type": "execute_result",
          "data": {
            "text/plain": [
              "[tensor([[[[-1.3130, -1.2274, -1.4158,  ..., -1.3302, -1.2617, -1.3815],\n",
              "           [-1.4500, -1.2445, -0.9363,  ..., -0.7822, -0.2684, -1.1418],\n",
              "           [-0.8507, -0.2684,  0.1254,  ...,  0.0227,  0.0569, -0.2856],\n",
              "           ...,\n",
              "           [-1.3473, -0.4739,  1.1187,  ...,  0.2967, -1.1589, -1.2103],\n",
              "           [-1.3473, -0.4226,  1.1358,  ...,  0.0912, -1.1418, -1.3302],\n",
              "           [-1.3473, -0.3541,  1.1358,  ..., -0.0458, -1.2445, -1.3130]],\n",
              " \n",
              "          [[-1.2129, -1.1253, -1.3179,  ..., -1.2304, -1.1604, -1.2829],\n",
              "           [-1.3529, -1.1429, -0.8277,  ..., -0.6702, -0.1450, -1.0378],\n",
              "           [-0.7402, -0.1450,  0.2577,  ...,  0.1527,  0.1877, -0.1625],\n",
              "           ...,\n",
              "           [-1.2479, -0.3550,  1.2731,  ...,  0.4328, -1.0553, -1.1078],\n",
              "           [-1.2479, -0.3025,  1.2906,  ...,  0.2227, -1.0378, -1.2304],\n",
              "           [-1.2479, -0.2325,  1.2906,  ...,  0.0826, -1.1429, -1.2129]],\n",
              " \n",
              "          [[-0.9853, -0.8981, -1.0898,  ..., -1.0027, -0.9330, -1.0550],\n",
              "           [-1.1247, -0.9156, -0.6018,  ..., -0.4450,  0.0779, -0.8110],\n",
              "           [-0.5147,  0.0779,  0.4788,  ...,  0.3742,  0.4091,  0.0605],\n",
              "           ...,\n",
              "           [-1.0201, -0.1312,  1.4897,  ...,  0.6531, -0.8284, -0.8807],\n",
              "           [-1.0201, -0.0790,  1.5071,  ...,  0.4439, -0.8110, -1.0027],\n",
              "           [-1.0201, -0.0092,  1.5071,  ...,  0.3045, -0.9156, -0.9853]]],\n",
              " \n",
              " \n",
              "         [[[-1.4500, -1.4672, -1.5357,  ..., -0.6965, -0.6794, -0.8678],\n",
              "           [-1.3987, -1.3644, -1.3815,  ..., -0.5424, -0.4226, -0.3369],\n",
              "           [-0.3712, -0.3369, -0.3198,  ..., -0.3027, -0.3369, -0.2856],\n",
              "           ...,\n",
              "           [ 0.0569,  0.0569,  0.0056,  ..., -1.3815, -1.3302, -1.2617],\n",
              "           [-0.9705, -1.0048, -1.0733,  ..., -1.9124, -1.8953, -1.8610],\n",
              "           [-1.8610, -1.8610, -1.8953,  ..., -1.9980, -1.9638, -1.9124]],\n",
              " \n",
              "          [[-1.3529, -1.3704, -1.4405,  ..., -0.5826, -0.5651, -0.7577],\n",
              "           [-1.3004, -1.2654, -1.2829,  ..., -0.4251, -0.3025, -0.2150],\n",
              "           [-0.2500, -0.2150, -0.1975,  ..., -0.1800, -0.2150, -0.1625],\n",
              "           ...,\n",
              "           [ 0.1877,  0.1877,  0.1352,  ..., -1.2829, -1.2304, -1.1604],\n",
              "           [-0.8627, -0.8978, -0.9678,  ..., -1.8256, -1.8081, -1.7731],\n",
              "           [-1.7731, -1.7731, -1.8081,  ..., -1.9132, -1.8782, -1.8256]],\n",
              " \n",
              "          [[-1.1247, -1.1421, -1.2119,  ..., -0.3578, -0.3404, -0.5321],\n",
              "           [-1.0724, -1.0376, -1.0550,  ..., -0.2010, -0.0790,  0.0082],\n",
              "           [-0.0267,  0.0082,  0.0256,  ...,  0.0431,  0.0082,  0.0605],\n",
              "           ...,\n",
              "           [ 0.4091,  0.4091,  0.3568,  ..., -1.0550, -1.0027, -0.9330],\n",
              "           [-0.6367, -0.6715, -0.7413,  ..., -1.5953, -1.5779, -1.5430],\n",
              "           [-1.5430, -1.5430, -1.5779,  ..., -1.6824, -1.6476, -1.5953]]],\n",
              " \n",
              " \n",
              "         [[[-0.8507, -0.1486,  0.1083,  ..., -0.3369, -0.3541, -0.4739],\n",
              "           [-0.3027,  0.0741,  0.2796,  ...,  0.2111,  0.1768,  0.0741],\n",
              "           [ 0.2624,  0.3823,  0.5878,  ...,  0.6392,  0.5707,  0.5022],\n",
              "           ...,\n",
              "           [-1.9467, -1.5014,  0.1768,  ...,  0.9988,  0.0398, -1.6384],\n",
              "           [-1.9638, -1.4500,  0.1597,  ...,  0.9474,  0.0056, -1.6555],\n",
              "           [-1.9638, -1.4158,  0.1254,  ...,  0.8447, -0.0458, -1.6727]],\n",
              " \n",
              "          [[-0.7402, -0.0224,  0.2402,  ..., -0.2150, -0.2325, -0.3550],\n",
              "           [-0.1800,  0.2052,  0.4153,  ...,  0.3452,  0.3102,  0.2052],\n",
              "           [ 0.3978,  0.5203,  0.7304,  ...,  0.7829,  0.7129,  0.6429],\n",
              "           ...,\n",
              "           [-1.8606, -1.4055,  0.3102,  ...,  1.1506,  0.1702, -1.5455],\n",
              "           [-1.8782, -1.3529,  0.2927,  ...,  1.0980,  0.1352, -1.5630],\n",
              "           [-1.8782, -1.3179,  0.2577,  ...,  0.9930,  0.0826, -1.5805]],\n",
              " \n",
              "          [[-0.5147,  0.1999,  0.4614,  ...,  0.0082, -0.0092, -0.1312],\n",
              "           [ 0.0431,  0.4265,  0.6356,  ...,  0.5659,  0.5311,  0.4265],\n",
              "           [ 0.6182,  0.7402,  0.9494,  ...,  1.0017,  0.9319,  0.8622],\n",
              "           ...,\n",
              "           [-1.6302, -1.1770,  0.5311,  ...,  1.3677,  0.3916, -1.3164],\n",
              "           [-1.6476, -1.1247,  0.5136,  ...,  1.3154,  0.3568, -1.3339],\n",
              "           [-1.6476, -1.0898,  0.4788,  ...,  1.2108,  0.3045, -1.3513]]],\n",
              " \n",
              " \n",
              "         ...,\n",
              " \n",
              " \n",
              "         [[[-1.3815, -1.2103, -1.3130,  ...,  0.5707, -0.1828, -1.1247],\n",
              "           [-1.1247, -0.8507, -1.0904,  ...,  0.4679, -0.1828, -1.1247],\n",
              "           [-1.2103, -1.0048, -1.0733,  ...,  0.3994, -0.3027, -1.3302],\n",
              "           ...,\n",
              "           [-2.0323, -2.0665, -1.8439,  ..., -2.0837, -2.0837, -2.0665],\n",
              "           [-2.0323, -2.0494, -1.7069,  ..., -2.0665, -2.0837, -1.9467],\n",
              "           [-2.0323, -2.0494, -1.5870,  ..., -2.0494, -2.0837, -1.8268]],\n",
              " \n",
              "          [[-1.2829, -1.1078, -1.2129,  ...,  0.7129, -0.0574, -1.0203],\n",
              "           [-1.0203, -0.7402, -0.9853,  ...,  0.6078, -0.0574, -1.0203],\n",
              "           [-1.1078, -0.8978, -0.9678,  ...,  0.5378, -0.1800, -1.2304],\n",
              "           ...,\n",
              "           [-1.9482, -1.9832, -1.7556,  ..., -2.0007, -2.0007, -1.9832],\n",
              "           [-1.9482, -1.9657, -1.6155,  ..., -1.9832, -2.0007, -1.8606],\n",
              "           [-1.9482, -1.9657, -1.4930,  ..., -1.9657, -2.0007, -1.7381]],\n",
              " \n",
              "          [[-1.0550, -0.8807, -0.9853,  ...,  0.9319,  0.1651, -0.7936],\n",
              "           [-0.7936, -0.5147, -0.7587,  ...,  0.8274,  0.1651, -0.7936],\n",
              "           [-0.8807, -0.6715, -0.7413,  ...,  0.7576,  0.0431, -1.0027],\n",
              "           ...,\n",
              "           [-1.7173, -1.7522, -1.5256,  ..., -1.7696, -1.7696, -1.7522],\n",
              "           [-1.7173, -1.7347, -1.3861,  ..., -1.7522, -1.7696, -1.6302],\n",
              "           [-1.7173, -1.7347, -1.2641,  ..., -1.7347, -1.7696, -1.5081]]],\n",
              " \n",
              " \n",
              "         [[[-1.0562, -0.6109, -0.4568,  ..., -0.8678, -0.7993, -0.8849],\n",
              "           [-1.0048, -0.5253, -0.3883,  ..., -0.7308, -0.6452, -0.7479],\n",
              "           [-0.7993, -0.6623, -0.5424,  ..., -0.5082, -0.3883, -0.6965],\n",
              "           ...,\n",
              "           [-1.4329, -0.6623,  0.1597,  ..., -0.9877, -1.6384, -1.7240],\n",
              "           [-1.3644, -0.5596,  0.2624,  ..., -0.9705, -1.6384, -1.7240],\n",
              "           [-1.3130, -0.4568,  0.2967,  ..., -0.9363, -1.6213, -1.7412]],\n",
              " \n",
              "          [[-0.9503, -0.4951, -0.3375,  ..., -0.7577, -0.6877, -0.7752],\n",
              "           [-0.8978, -0.4076, -0.2675,  ..., -0.6176, -0.5301, -0.6352],\n",
              "           [-0.6877, -0.5476, -0.4251,  ..., -0.3901, -0.2675, -0.5826],\n",
              "           ...,\n",
              "           [-1.3354, -0.5476,  0.2927,  ..., -0.8803, -1.5455, -1.6331],\n",
              "           [-1.2654, -0.4426,  0.3978,  ..., -0.8627, -1.5455, -1.6331],\n",
              "           [-1.2129, -0.3375,  0.4328,  ..., -0.8277, -1.5280, -1.6506]],\n",
              " \n",
              "          [[-0.7238, -0.2707, -0.1138,  ..., -0.5321, -0.4624, -0.5495],\n",
              "           [-0.6715, -0.1835, -0.0441,  ..., -0.3927, -0.3055, -0.4101],\n",
              "           [-0.4624, -0.3230, -0.2010,  ..., -0.1661, -0.0441, -0.3578],\n",
              "           ...,\n",
              "           [-1.1073, -0.3230,  0.5136,  ..., -0.6541, -1.3164, -1.4036],\n",
              "           [-1.0376, -0.2184,  0.6182,  ..., -0.6367, -1.3164, -1.4036],\n",
              "           [-0.9853, -0.1138,  0.6531,  ..., -0.6018, -1.2990, -1.4210]]],\n",
              " \n",
              " \n",
              "         [[[ 1.2043,  0.9474, -0.7479,  ..., -0.8507, -1.0562, -1.3815],\n",
              "           [ 1.1187,  0.5364, -1.0904,  ..., -0.7993, -0.8164, -1.1418],\n",
              "           [ 1.0331, -0.0801, -1.3473,  ..., -0.9534, -0.8849, -0.9534],\n",
              "           ...,\n",
              "           [-1.7754, -1.6727, -0.8335,  ..., -1.0048, -1.7583, -1.8782],\n",
              "           [-1.8439, -1.5185, -0.7993,  ..., -0.9192, -1.7583, -1.8097],\n",
              "           [-1.8953, -1.3815, -0.7993,  ..., -0.7822, -1.7754, -1.7069]],\n",
              " \n",
              "          [[ 1.3606,  1.0980, -0.6352,  ..., -0.7402, -0.9503, -1.2829],\n",
              "           [ 1.2731,  0.6779, -0.9853,  ..., -0.6877, -0.7052, -1.0378],\n",
              "           [ 1.1856,  0.0476, -1.2479,  ..., -0.8452, -0.7752, -0.8452],\n",
              "           ...,\n",
              "           [-1.6856, -1.5805, -0.7227,  ..., -0.8978, -1.6681, -1.7906],\n",
              "           [-1.7556, -1.4230, -0.6877,  ..., -0.8102, -1.6681, -1.7206],\n",
              "           [-1.8081, -1.2829, -0.6877,  ..., -0.6702, -1.6856, -1.6155]],\n",
              " \n",
              "          [[ 1.5768,  1.3154, -0.4101,  ..., -0.5147, -0.7238, -1.0550],\n",
              "           [ 1.4897,  0.8971, -0.7587,  ..., -0.4624, -0.4798, -0.8110],\n",
              "           [ 1.4025,  0.2696, -1.0201,  ..., -0.6193, -0.5495, -0.6193],\n",
              "           ...,\n",
              "           [-1.4559, -1.3513, -0.4973,  ..., -0.6715, -1.4384, -1.5604],\n",
              "           [-1.5256, -1.1944, -0.4624,  ..., -0.5844, -1.4384, -1.4907],\n",
              "           [-1.5779, -1.0550, -0.4624,  ..., -0.4450, -1.4559, -1.3861]]]]),\n",
              " tensor([0, 0, 0, 1, 0, 0, 0, 0, 0, 0, 1, 0, 0, 0, 0, 0, 0, 0, 0, 0, 1, 0, 0, 0,\n",
              "         0, 0, 1, 0, 0, 0, 0, 0, 0, 0, 0, 0, 1, 1, 1, 0, 0, 1, 0, 0, 1, 0, 0, 0,\n",
              "         1, 1, 1, 1, 0, 1, 0, 1, 0, 0, 0, 1, 0, 0, 0, 0])]"
            ]
          },
          "metadata": {
            "tags": []
          },
          "execution_count": 31
        }
      ]
    },
    {
      "cell_type": "code",
      "metadata": {
        "id": "iYJ1QqZB8syY",
        "colab_type": "code",
        "colab": {}
      },
      "source": [
        "model=models.resnet34(pretrained=True,progress=True,)\n",
        "loss_function=F.cross_entropy\n",
        "opt=optim.Adam(model.parameters(),weight_decay=0.01)"
      ],
      "execution_count": 32,
      "outputs": []
    },
    {
      "cell_type": "code",
      "metadata": {
        "id": "n_pb1pZAGPt2",
        "colab_type": "code",
        "colab": {
          "base_uri": "https://localhost:8080/",
          "height": 86
        },
        "outputId": "64ca5978-9433-4627-c4aa-0aced3b91f5f"
      },
      "source": [
        "epochs=4\n",
        "for epoch in range(epochs):\n",
        "  for xb,yb in train_dl:\n",
        "    pred = model(xb)\n",
        "    loss = loss_function(pred,yb)\n",
        "    loss.backward()\n",
        "    opt.step()\n",
        "    opt.zero_grad"
      ],
      "execution_count": 34,
      "outputs": [
        {
          "output_type": "stream",
          "text": [
            "loss for epoch 0 => 0.9168003797531128\n",
            "loss for epoch 1 => 3.5230562686920166\n",
            "loss for epoch 2 => 0.6696447730064392\n",
            "loss for epoch 3 => 0.673809826374054\n"
          ],
          "name": "stdout"
        }
      ]
    },
    {
      "cell_type": "code",
      "metadata": {
        "id": "PKu7yDRhG_zB",
        "colab_type": "code",
        "colab": {
          "base_uri": "https://localhost:8080/",
          "height": 34
        },
        "outputId": "09e0cd6d-87ea-4646-83b3-0f4f8aac3817"
      },
      "source": [
        "loss_function(model(xb),yb)"
      ],
      "execution_count": 35,
      "outputs": [
        {
          "output_type": "execute_result",
          "data": {
            "text/plain": [
              "tensor(0.6738, grad_fn=<NllLossBackward>)"
            ]
          },
          "metadata": {
            "tags": []
          },
          "execution_count": 35
        }
      ]
    },
    {
      "cell_type": "code",
      "metadata": {
        "id": "1kmu-4TkqseJ",
        "colab_type": "code",
        "colab": {}
      },
      "source": [
        ""
      ],
      "execution_count": null,
      "outputs": []
    }
  ]
}